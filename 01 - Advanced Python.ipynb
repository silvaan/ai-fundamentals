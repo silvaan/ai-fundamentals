{
 "cells": [
  {
   "cell_type": "markdown",
   "id": "b886ef03",
   "metadata": {},
   "source": [
    "# Python Avançado\n",
    "\n",
    "Este notebook aborda conceitos avançados da linguagem Python, fundamentais para o desenvolvimento de sistemas de Inteligência Artificial Generativa. O domínio destes tópicos permite a criação de código mais eficiente, robusto e conciso.\n",
    "\n",
    "### Conteúdo\n",
    "\n",
    "* List Comprehensions\n",
    "* Dict Comprehensions e Set Comprehensions\n",
    "* Generators\n",
    "* Funções Avançadas\n",
    "* Lambda Functions\n",
    "* Map, Filter, e Reduce\n",
    "* Decorators\n",
    "* Docstrings\n",
    "* Context Managers\n",
    "* Trabalhando com Arquivos\n",
    "* Expressões Regulares\n",
    "* Error Handling e Exceptions\n",
    "* Multithreading e Multiprocessing\n",
    "* Classes e Objetos\n",
    "* Herança\n",
    "* Property Decorators\n",
    "* Magic Methods\n",
    "* Módulos"
   ]
  },
  {
   "cell_type": "markdown",
   "id": "266423bb",
   "metadata": {},
   "source": [
    "## Estruturas de Dados e Iteração Avançada\n",
    "\n",
    "Nesta seção, exploraremos técnicas avançadas para a criação e iteração sobre estruturas de dados em Python, focando em eficiência e legibilidade do código."
   ]
  },
  {
   "cell_type": "markdown",
   "id": "1302d1b2",
   "metadata": {},
   "source": [
    "### List Comprehensions\n",
    "\n",
    "As *List Comprehensions* oferecem uma sintaxe mais curta e legível para criar listas. Elas são uma expressão de uma única linha que combina um laço `for` com uma operação de criação de lista. A estrutura fundamental é `[expressao for item in iteravel if condicao]`. Além de serem mais concisas que os laços tradicionais, são frequentemente mais rápidas devido à otimização da implementação em C no interpretador Python."
   ]
  },
  {
   "cell_type": "code",
   "execution_count": null,
   "id": "f1708d56",
   "metadata": {},
   "outputs": [],
   "source": [
    "# Exemplo de criação de uma lista de quadrados com um laço for tradicional\n",
    "quadrados_loop = []\n",
    "for i in range(10):\n",
    "    quadrados_loop.append(i**2)\n",
    "print(f\"Com laço for: {quadrados_loop}\")"
   ]
  },
  {
   "cell_type": "code",
   "execution_count": null,
   "id": "bcf3a2bc",
   "metadata": {},
   "outputs": [],
   "source": [
    "# A mesma operação utilizando List Comprehension\n",
    "quadrados_lc = [i**2 for i in range(10)]\n",
    "print(f\"Com List Comprehension: {quadrados_lc}\")"
   ]
  },
  {
   "cell_type": "code",
   "execution_count": null,
   "id": "14b0907c",
   "metadata": {},
   "outputs": [],
   "source": [
    "# List Comprehension com uma condição: apenas números pares\n",
    "quadrados_pares_lc = [i**2 for i in range(10) if i % 2 == 0]\n",
    "print(f\"Quadrados dos pares: {quadrados_pares_lc}\")"
   ]
  },
  {
   "cell_type": "markdown",
   "id": "12c1e3b5",
   "metadata": {},
   "source": [
    "### Dict Comprehensions e Set Comprehensions\n",
    "\n",
    "O conceito de *comprehensions* não se limita a listas. Podemos aplicá-lo para criar dicionários e conjuntos de forma igualmente elegante e eficiente.\n",
    "\n",
    "* **Dict Comprehensions**: Utilizam a sintaxe `{chave: valor for item in iteravel}` para criar dicionários.\n",
    "* **Set Comprehensions**: Possuem uma sintaxe similar à das listas, mas com chaves: `{expressao for item in iteravel}`. Elas garantem que todos os elementos no conjunto final sejam únicos."
   ]
  },
  {
   "cell_type": "code",
   "execution_count": null,
   "id": "ffe475da",
   "metadata": {},
   "outputs": [],
   "source": [
    "# Dict Comprehension para criar um dicionário de números e seus cubos\n",
    "cubos_dict = {x: x**3 for x in range(6)}\n",
    "print(f\"Dicionário de cubos: {cubos_dict}\")"
   ]
  },
  {
   "cell_type": "code",
   "execution_count": null,
   "id": "25d7db75",
   "metadata": {},
   "outputs": [],
   "source": [
    "# Set Comprehension para criar um conjunto de comprimentos de palavras (sem duplicatas)\n",
    "frase = \"a raposa marrom salta sobre o cão preguiçoso\"\n",
    "palavras = frase.split()\n",
    "comprimentos = {len(palavra) for palavra in palavras}\n",
    "print(f\"Conjunto de comprimentos das palavras: {comprimentos}\")"
   ]
  },
  {
   "cell_type": "markdown",
   "id": "a129586d",
   "metadata": {},
   "source": [
    "### Generators\n",
    "\n",
    "*Generators* são uma forma especial de iteradores, permitindo a criação de sequências de dados de maneira \"preguiçosa\" (*lazy evaluation*). Em vez de alocar memória para todos os elementos da sequência de uma vez, um *generator* produz um item de cada vez, e somente quando solicitado. Isso os torna extremamente eficientes em termos de memória para trabalhar com grandes volumes de dados.\n",
    "\n",
    "Eles são definidos de duas formas principais:\n",
    "1.  **Funções Geradoras**: Funções que utilizam a palavra-chave `yield` em vez de `return` para retornar um valor. O estado da função é salvo entre as chamadas.\n",
    "2.  **Expressões Geradoras**: Possuem uma sintaxe similar à das *list comprehensions*, mas utilizam parênteses em vez de colchetes: `(expressao for item in iteravel)`."
   ]
  },
  {
   "cell_type": "code",
   "execution_count": null,
   "id": "3391e74e",
   "metadata": {},
   "outputs": [],
   "source": [
    "# Exemplo de uma Função Geradora para a sequência de Fibonacci\n",
    "def fib_generator(n):\n",
    "    a, b = 0, 1\n",
    "    count = 0\n",
    "    while count < n:\n",
    "        yield a\n",
    "        a, b = b, a + b\n",
    "        count += 1\n",
    "\n",
    "# Iterando sobre o gerador\n",
    "print(\"Sequência de Fibonacci com Função Geradora:\")\n",
    "for num in fib_generator(10):\n",
    "    print(num, end=\" \")\n",
    "print(\"\\n\")"
   ]
  },
  {
   "cell_type": "code",
   "execution_count": null,
   "id": "3f2f178f",
   "metadata": {},
   "outputs": [],
   "source": [
    "# Exemplo de uma Expressão Geradora\n",
    "quadrados_generator = (i**2 for i in range(1000000))\n",
    "\n",
    "# O gerador não consumiu memória para um milhão de números.\n",
    "# Ele calcula o próximo valor apenas quando solicitado.\n",
    "print(f\"Tipo do objeto: {type(quadrados_generator)}\")\n",
    "print(f\"Próximos 5 valores: {[next(quadrados_generator) for _ in range(5)]}\")"
   ]
  },
  {
   "cell_type": "markdown",
   "id": "ce22f8dc",
   "metadata": {},
   "source": [
    "## Funções e Programação Funcional\n",
    "\n",
    "Esta seção aprofunda o conhecimento sobre funções em Python, introduzindo paradigmas da programação funcional que promovem um código mais modular e declarativo."
   ]
  },
  {
   "cell_type": "markdown",
   "id": "f006a7db",
   "metadata": {},
   "source": [
    "### Funções Avançadas (`*args` e `**kwargs`)\n",
    "\n",
    "Python permite a definição de funções que aceitam um número variável de argumentos.\n",
    "\n",
    "* `*args` (Argumentos não-nomeados): Permite passar um número variável de argumentos posicionais para uma função. Dentro da função, `args` será uma tupla contendo todos os argumentos posicionais passados.\n",
    "* `**kwargs` (Argumentos nomeados): Permite passar um número variável de argumentos nomeados (chave-valor) para uma função. Dentro da função, `kwargs` será um dicionário.\n",
    "\n",
    "A ordem padrão em uma definição de função é: argumentos padrão, `*args`, `**kwargs`."
   ]
  },
  {
   "cell_type": "code",
   "execution_count": null,
   "id": "7a6d2eff",
   "metadata": {},
   "outputs": [],
   "source": [
    "def relatorio_completo(titulo, *metricas, **detalhes):\n",
    "    \"\"\"\n",
    "    Gera um relatório com um título, uma lista de métricas e detalhes opcionais.\n",
    "    \"\"\"\n",
    "    print(f\"--- Relatório: {titulo} ---\")\n",
    "    \n",
    "    print(\"\\nMétricas Principais:\")\n",
    "    for metrica in metricas:\n",
    "        print(f\"- {metrica}\")\n",
    "    \n",
    "    if detalhes:\n",
    "        print(\"\\nDetalhes Adicionais:\")\n",
    "        for chave, valor in detalhes.items():\n",
    "            print(f\"- {chave.replace('_', ' ').title()}: {valor}\")\n",
    "\n",
    "# Chamada da função com diferentes argumentos\n",
    "relatorio_completo(\n",
    "    \"Performance do Modelo Q3\", \n",
    "    \"Acurácia: 98%\", \"Precisão: 95%\", \"Recall: 97%\",\n",
    "    data_extracao=\"2025-08-12\",\n",
    "    responsavel=\"Ana\",\n",
    "    versao_modelo=\"v2.1\"\n",
    ")"
   ]
  },
  {
   "cell_type": "markdown",
   "id": "7b4d294e",
   "metadata": {},
   "source": [
    "### Lambda Functions\n",
    "\n",
    "Uma *Lambda Function*, ou função anônima, é uma pequena função definida sem um nome. Ela é criada usando a palavra-chave `lambda`. A sintaxe é `lambda argumentos: expressao`. Elas são restritas a uma única expressão e são frequentemente utilizadas em situações onde uma função simples é necessária por um curto período, como argumento para funções de ordem superior (e.g., `map`, `filter`, `sorted`)."
   ]
  },
  {
   "cell_type": "code",
   "execution_count": null,
   "id": "38a1b657",
   "metadata": {},
   "outputs": [],
   "source": [
    "# Função lambda para calcular o cubo de um número\n",
    "cubo = lambda x: x**3\n",
    "print(f\"O cubo de 5 é: {cubo(5)}\")"
   ]
  },
  {
   "cell_type": "code",
   "execution_count": null,
   "id": "24e513e1",
   "metadata": {},
   "outputs": [],
   "source": [
    "# Usando lambda para ordenar uma lista de tuplas pelo segundo elemento\n",
    "pontuacoes = [('jogador1', 88), ('jogador2', 95), ('jogador3', 76)]\n",
    "pontuacoes_ordenadas = sorted(pontuacoes, key=lambda item: item[1], reverse=True)\n",
    "print(f\"\\nRanking de jogadores: {pontuacoes_ordenadas}\")"
   ]
  },
  {
   "cell_type": "markdown",
   "id": "a593caee",
   "metadata": {},
   "source": [
    "### Map, Filter, and Reduce Functions\n",
    "\n",
    "Estas são funções clássicas do paradigma de programação funcional.\n",
    "\n",
    "* **`map(funcao, iteravel)`**: Aplica uma função a cada item de um iterável (e.g., lista, tupla) e retorna um objeto `map` (um iterador) com os resultados.\n",
    "* **`filter(funcao, iteravel)`**: Testa cada elemento de um iterável com uma função que retorna um booleano (`True` ou `False`). Retorna um objeto `filter` (um iterador) contendo apenas os elementos para os quais a função retornou `True`.\n",
    "* **`reduce(funcao, iteravel)`**: Localizada no módulo `functools`, aplica uma função de forma cumulativa aos itens de uma sequência, de modo a reduzi-la a um único valor. Por exemplo, `reduce(lambda x, y: x+y, [1, 2, 3, 4])` calcula `((1+2)+3)+4`."
   ]
  },
  {
   "cell_type": "code",
   "execution_count": null,
   "id": "16dafd6a",
   "metadata": {},
   "outputs": [],
   "source": [
    "# Lista de números para os exemplos\n",
    "numeros = [1, 2, 3, 4, 5, 6, 7, 8, 9, 10]"
   ]
  },
  {
   "cell_type": "code",
   "execution_count": null,
   "id": "9796f92b",
   "metadata": {},
   "outputs": [],
   "source": [
    "# 1. Map: Obter o quadrado de cada número\n",
    "quadrados = map(lambda x: x**2, numeros)\n",
    "print(f\"Map (quadrados): {list(quadrados)}\")"
   ]
  },
  {
   "cell_type": "code",
   "execution_count": null,
   "id": "484dd2ed",
   "metadata": {},
   "outputs": [],
   "source": [
    "# 2. Filter: Obter apenas os números múltiplos de 3\n",
    "multiplos_de_3 = filter(lambda x: x % 3 == 0, numeros)\n",
    "print(f\"Filter (múltiplos de 3): {list(multiplos_de_3)}\")"
   ]
  },
  {
   "cell_type": "code",
   "execution_count": null,
   "id": "f61db40c",
   "metadata": {},
   "outputs": [],
   "source": [
    "from functools import reduce\n",
    "\n",
    "# 3. Reduce: Calcular o produto de todos os números\n",
    "produto = reduce(lambda x, y: x * y, numeros)\n",
    "print(f\"Reduce (produto): {produto}\")"
   ]
  },
  {
   "cell_type": "markdown",
   "id": "385d6ca8",
   "metadata": {},
   "source": [
    "### Decorators\n",
    "\n",
    "*Decorators* são uma forma poderosa e elegante de modificar ou estender o comportamento de funções ou métodos sem alterar permanentemente seu código-fonte. Um *decorator* é, em essência, uma função que recebe outra função como argumento, adiciona alguma funcionalidade e retorna a função modificada. A sintaxe `@` é um \"açúcar sintático\" para essa operação. Eles são amplamente utilizados para logging, controle de acesso, memoização, entre outros."
   ]
  },
  {
   "cell_type": "code",
   "execution_count": null,
   "id": "9ad295e3",
   "metadata": {},
   "outputs": [],
   "source": [
    "import time\n",
    "\n",
    "def cronometro(func):\n",
    "    \"\"\"\n",
    "    Decorator que mede e imprime o tempo de execução de uma função.\n",
    "    \"\"\"\n",
    "    def wrapper(*args, **kwargs):\n",
    "        inicio = time.time()\n",
    "        resultado = func(*args, **kwargs)\n",
    "        fim = time.time()\n",
    "        print(f\"[Cronômetro] A função '{func.__name__}' levou {fim - inicio:.4f} segundos para executar.\")\n",
    "        return resultado\n",
    "    return wrapper\n",
    "\n",
    "@cronometro\n",
    "def processamento_intensivo(n):\n",
    "    \"\"\"\n",
    "    Função de exemplo que simula um processamento demorado.\n",
    "    \"\"\"\n",
    "    soma = 0\n",
    "    for i in range(n):\n",
    "        soma += i\n",
    "    return soma\n",
    "\n",
    "# Chamando a função decorada\n",
    "resultado_soma = processamento_intensivo(10000000)"
   ]
  },
  {
   "cell_type": "markdown",
   "id": "db8edc95",
   "metadata": {},
   "source": [
    "### Exercício: Otimização e Análise de Dados com Comprehensions\n",
    "\n",
    "Você recebeu um conjunto de dados sobre produtos em um e-commerce, representado como uma lista de dicionários. Sua tarefa é processar e analisar esses dados.\n",
    "Tarefas:\n",
    "\n",
    "1. Use uma List Comprehension para criar uma nova lista contendo apenas os nomes dos produtos da categoria \"Eletrônicos\" que estão em estoque.\n",
    "2. Use uma Dict Comprehension para criar um dicionário onde as chaves são os nomes dos produtos e os valores são seus preços com um aumento de 10% (preço * 1.1).\n",
    "3. Utilizando map e lambda, crie uma lista com os preços originais de todos os produtos.\n",
    "4. Utilizando filter e lambda, crie uma lista de produtos cujo preço é superior a R$1000.\n",
    "5. Utilizando functools.reduce, calcule o valor total do estoque dos produtos da categoria \"Acessórios\". Lembre-se de importar o reduce."
   ]
  },
  {
   "cell_type": "code",
   "execution_count": null,
   "id": "a020e744",
   "metadata": {},
   "outputs": [],
   "source": [
    "produtos = [\n",
    "    {\"nome\": \"Laptop Gamer\", \"preco\": 7500, \"categoria\": \"Eletrônicos\", \"em_estoque\": True},\n",
    "    {\"nome\": \"Mouse sem Fio\", \"preco\": 150, \"categoria\": \"Acessórios\", \"em_estoque\": True},\n",
    "    {\"nome\": \"Teclado Mecânico\", \"preco\": 450, \"categoria\": \"Acessórios\", \"em_estoque\": False},\n",
    "    {\"nome\": \"Monitor 4K\", \"preco\": 2800, \"categoria\": \"Eletrônicos\", \"em_estoque\": True},\n",
    "    {\"nome\": \"Cadeira Gamer\", \"preco\": 1200, \"categoria\": \"Móveis\", \"em_estoque\": True},\n",
    "    {\"nome\": \"SSD 1TB\", \"preco\": 600, \"categoria\": \"Componentes\", \"em_estoque\": False},\n",
    "]\n",
    "\n",
    "# produtos_filtrados = [...]"
   ]
  },
  {
   "cell_type": "markdown",
   "id": "f2c76056",
   "metadata": {},
   "source": [
    "## Documentando seu Código com Docstrings\n",
    "\n",
    "Uma *docstring* (string de documentação) é um literal de string que ocorre como a primeira instrução em um módulo, função, classe ou definição de método. Seu propósito é fornecer uma documentação clara e concisa sobre o objetivo do objeto, como usá-lo e quais são seus parâmetros e retornos.\n",
    "\n",
    "Diferentemente de comentários (`#`), que são completamente ignorados pelo interpretador Python e servem para explicar a implementação (o \"como\"), as *docstrings* são armazenadas em um atributo especial do objeto, `__doc__`, e podem ser acessadas programaticamente. Ferramentas de documentação automática, como o Sphinx, e IDEs utilizam as *docstrings* para gerar manuais e fornecer ajuda interativa ao desenvolvedor."
   ]
  },
  {
   "cell_type": "markdown",
   "id": "baa0ac05",
   "metadata": {},
   "source": [
    "### Tipos de Docstrings\n",
    "\n",
    "Existem dois tipos principais de docstrings: de linha única e de múltiplas linhas.\n",
    "\n",
    "#### Docstrings de Linha Única\n",
    "\n",
    "São usadas para funções ou métodos muito simples, onde uma breve descrição é suficiente. A convenção é manter tudo em uma única linha, começando com uma letra maiúscula e terminando com um ponto. As três aspas triplas (`\"\"\"` ou `'''`) são usadas mesmo para uma única linha para manter a consistência."
   ]
  },
  {
   "cell_type": "code",
   "execution_count": null,
   "id": "c39ff394",
   "metadata": {},
   "outputs": [],
   "source": [
    "def calcular_potencia(base, expoente):\n",
    "    \"\"\"Calcula a potência de um número.\"\"\"\n",
    "    return base ** expoente"
   ]
  },
  {
   "cell_type": "code",
   "execution_count": null,
   "id": "5937827a",
   "metadata": {},
   "outputs": [],
   "source": [
    "# Acessando a docstring diretamente pelo atributo __doc__\n",
    "print(\"Acessando com .__doc__:\")\n",
    "print(calcular_potencia.__doc__)"
   ]
  },
  {
   "cell_type": "code",
   "execution_count": null,
   "id": "5aca8b3d",
   "metadata": {},
   "outputs": [],
   "source": [
    "# Usando a função help() para uma visualização mais formatada\n",
    "print(\"Acessando com help():\")\n",
    "help(calcular_potencia)"
   ]
  },
  {
   "cell_type": "markdown",
   "id": "6c958485",
   "metadata": {},
   "source": [
    "#### Docstrings de Múltiplas Linhas\n",
    "\n",
    "Para objetos mais complexos, uma *docstring* de múltiplas linhas é necessária. Ela possui uma estrutura mais detalhada, que geralmente segue uma convenção para garantir clareza e padronização. Uma estrutura comum inclui:\n",
    "\n",
    "1.  Uma **linha de resumo**, curta e direta (como a docstring de linha única).\n",
    "2.  Uma **linha em branco**, separando o resumo dos detalhes.\n",
    "3.  Uma **descrição mais elaborada**, explicando o comportamento do objeto em mais detalhes, se necessário.\n",
    "4.  Seções específicas para documentar **argumentos**, **retornos** e **exceções** que podem ser levantadas."
   ]
  },
  {
   "cell_type": "markdown",
   "id": "f019eaa6",
   "metadata": {},
   "source": [
    "### Convenções de Estilo\n",
    "\n",
    "Existem vários estilos populares para formatar *docstrings* de múltiplas linhas. A escolha de um estilo e sua aplicação consistente em um projeto é fundamental para a legibilidade. Alguns dos estilos mais conhecidos são:\n",
    "\n",
    "* **Google Style**: Utiliza seções indentadas com títulos como `Args:`, `Returns:` e `Raises:`. É conhecido por sua alta legibilidade.\n",
    "* **NumPy/SciPy Style**: Mais verboso, utiliza seções com títulos sublinhados (ex: `Parameters\\n----------`). Amplamente usado na comunidade científica.\n",
    "* **reStructuredText (reST)**: O formato padrão usado pelo Sphinx, a ferramenta mais popular para gerar documentação Python. Usa diretivas como `:param:`, `:returns:`."
   ]
  },
  {
   "cell_type": "code",
   "execution_count": null,
   "id": "5631a0f7",
   "metadata": {},
   "outputs": [],
   "source": [
    "import math\n",
    "\n",
    "def calcular_raiz_quadrada(numero):\n",
    "    \"\"\"Calcula a raiz quadrada de um número, com tratamento de exceções.\n",
    "\n",
    "    Esta função implementa uma camada de segurança sobre a função math.sqrt,\n",
    "    garantindo que a entrada seja válida antes de tentar o cálculo.\n",
    "\n",
    "    Args:\n",
    "        numero (int or float): O número do qual se deseja calcular a raiz.\n",
    "            Deve ser um valor não-negativo.\n",
    "\n",
    "    Returns:\n",
    "        float: A raiz quadrada do número fornecido. Retorna None se a entrada\n",
    "            for inválida.\n",
    "\n",
    "    Raises:\n",
    "        TypeError: Se a entrada não for um número (int ou float).\n",
    "        ValueError: Se o número fornecido for negativo.\n",
    "    \"\"\"\n",
    "    if not isinstance(numero, (int, float)):\n",
    "        raise TypeError(\"A entrada deve ser um número.\")\n",
    "    if numero < 0:\n",
    "        raise ValueError(\"Não é possível calcular a raiz de um número negativo.\")\n",
    "    \n",
    "    return math.sqrt(numero)\n",
    "\n",
    "# A função help() formata a docstring no estilo Google de forma muito clara.\n",
    "help(calcular_raiz_quadrada)"
   ]
  },
  {
   "cell_type": "markdown",
   "id": "ab91835c",
   "metadata": {},
   "source": [
    "## Manipulação de Recursos e I/O\n",
    "\n",
    "A manipulação de recursos externos, como arquivos ou conexões de rede, requer um gerenciamento cuidadoso para garantir que sejam liberados corretamente, mesmo em caso de erros."
   ]
  },
  {
   "cell_type": "markdown",
   "id": "ca102c99",
   "metadata": {},
   "source": [
    "### Context Managers\n",
    "\n",
    "Um *Context Manager* é um objeto que define métodos para serem executados ao entrar e ao sair de um determinado contexto. A instrução `with` é a forma canônica de se utilizar *Context Managers* em Python. Ela garante que operações de limpeza (como fechar um arquivo) sejam executadas, independentemente de como o bloco de código é encerrado, seja por conclusão normal ou por uma exceção.\n",
    "\n",
    "A sintaxe é `with expressao as variavel:`. A `expressao` deve retornar um objeto que implemente o protocolo de gerenciamento de contexto (os métodos `__enter__` e `__exit__`)."
   ]
  },
  {
   "cell_type": "code",
   "execution_count": null,
   "id": "3f49c519",
   "metadata": {},
   "outputs": [],
   "source": [
    "# O uso da instrução 'with' para ler um arquivo é o exemplo mais comum.\n",
    "# O arquivo é automaticamente fechado ao final do bloco 'with'.\n",
    "\n",
    "try:\n",
    "    with open('exemplo.txt', 'w') as f:\n",
    "        f.write('Olá, mundo!\\n')\n",
    "        f.write('Este arquivo foi criado usando um Context Manager.\\n')\n",
    "    \n",
    "    # Neste ponto, fora do bloco 'with', o arquivo 'f' já está fechado.\n",
    "    print(\"Arquivo 'exemplo.txt' escrito e fechado com sucesso.\")\n",
    "\n",
    "except IOError as e:\n",
    "    print(f\"Ocorreu um erro de I/O: {e}\")"
   ]
  },
  {
   "cell_type": "markdown",
   "id": "4d7016c3",
   "metadata": {},
   "source": [
    "### Trabalhando com Arquivos (Reading and Writing)\n",
    "\n",
    "A interação com arquivos é uma tarefa fundamental. Python oferece funções built-in para manipular arquivos em diferentes modos:\n",
    "\n",
    "* `'r'`: Leitura (padrão). Lança um erro se o arquivo não existir.\n",
    "* `'w'`: Escrita. Cria um novo arquivo (ou sobrescreve um existente).\n",
    "* `'a'`: Anexar (*Append*). Adiciona conteúdo ao final do arquivo sem sobrescrevê-lo. Cria o arquivo se ele não existir.\n",
    "* `'b'`: Modo binário. Adicionado a outros modos (e.g., `'rb'`, `'wb'`) para manipular arquivos que não são de texto, como imagens ou executáveis.\n",
    "* `'+'`: Modo de atualização (leitura e escrita). Geralmente usado com outros modos (e.g., `'r+'`, `'w+'`)."
   ]
  },
  {
   "cell_type": "code",
   "execution_count": null,
   "id": "64082bc1",
   "metadata": {},
   "outputs": [],
   "source": [
    "# Escrevendo (sobrescrevendo) e lendo um arquivo de texto\n",
    "try:\n",
    "    with open('dados.txt', 'w', encoding='utf-8') as f:\n",
    "        f.write('Primeira linha.\\n')\n",
    "        f.write('Segunda linha.\\n')\n",
    "\n",
    "    with open('dados.txt', 'a', encoding='utf-8') as f:\n",
    "        f.write('Terceira linha (anexada).\\n')\n",
    "\n",
    "    with open('dados.txt', 'r', encoding='utf-8') as f:\n",
    "        print(\"Conteúdo do arquivo 'dados.txt':\")\n",
    "        for linha in f:\n",
    "            print(linha.strip()) # strip() remove quebras de linha\n",
    "\n",
    "except IOError as e:\n",
    "    print(f\"Ocorreu um erro de I/O: {e}\")"
   ]
  },
  {
   "cell_type": "markdown",
   "id": "71c7ec22",
   "metadata": {},
   "source": [
    "## Processamento de Dados\n",
    "\n",
    "O processamento e a extração de informações de dados textuais são tarefas cruciais em IA. As expressões regulares são uma ferramenta indispensável para esse fim."
   ]
  },
  {
   "cell_type": "markdown",
   "id": "f7266d95",
   "metadata": {},
   "source": [
    "### Regular Expressions\n",
    "\n",
    "Expressões Regulares (RegEx) são sequências de caracteres que definem um padrão de busca. Elas são usadas para encontrar, substituir e extrair sub-strings que correspondem a esse padrão em textos. O módulo `re` em Python fornece uma interface para o mecanismo de RegEx.\n",
    "\n",
    "Alguns metacaracteres comuns:\n",
    "* `.`: Corresponde a qualquer caractere (exceto nova linha).\n",
    "* `\\d`: Corresponde a um dígito (0-9).\n",
    "* `\\w`: Corresponde a um caractere alfanumérico (letras, números e `_`).\n",
    "* `\\s`: Corresponde a um caractere de espaço em branco.\n",
    "* `*`: Corresponde a 0 ou mais repetições do caractere anterior.\n",
    "* `+`: Corresponde a 1 ou mais repetições.\n",
    "* `?`: Corresponde a 0 ou 1 repetição.\n",
    "* `[]`: Define um conjunto de caracteres. Ex: `[aeiou]`.\n",
    "* `()`: Agrupa expressões.\n",
    "\n",
    "Funções principais do módulo `re`:\n",
    "* `re.search(padrao, texto)`: Encontra a primeira ocorrência do padrão.\n",
    "* `re.findall(padrao, texto)`: Encontra todas as ocorrências e as retorna como uma lista.\n",
    "* `re.sub(padrao, substituicao, texto)`: Substitui as ocorrências do padrão.\n",
    "* `re.compile(padrao)`: Compila um padrão RegEx em um objeto de padrão, o que é mais eficiente se o mesmo padrão for usado várias vezes."
   ]
  },
  {
   "cell_type": "code",
   "execution_count": null,
   "id": "57afd346",
   "metadata": {},
   "outputs": [],
   "source": [
    "import re\n",
    "\n",
    "texto = \"Entre em contato pelo email aluno@dominio.com.br ou pelo telefone (84) 99999-1234. O email alternativo é professor_ia@provedor.edu.\""
   ]
  },
  {
   "cell_type": "code",
   "execution_count": null,
   "id": "33381587",
   "metadata": {},
   "outputs": [],
   "source": [
    "# 1. Encontrar todos os endereços de email\n",
    "padrao_email = r'[\\w._%+-]+@[\\w.-]+\\.[a-zA-Z]{2,}'\n",
    "emails_encontrados = re.findall(padrao_email, texto)\n",
    "print(f\"Emails encontrados: {emails_encontrados}\")"
   ]
  },
  {
   "cell_type": "code",
   "execution_count": null,
   "id": "89253444",
   "metadata": {},
   "outputs": [],
   "source": [
    "# 2. Encontrar o primeiro número de telefone\n",
    "padrao_telefone = r'\\(\\d{2}\\)\\s\\d{5}-\\d{4}'\n",
    "match_telefone = re.search(padrao_telefone, texto)\n",
    "if match_telefone:\n",
    "    print(f\"Telefone encontrado: {match_telefone.group(0)}\")"
   ]
  },
  {
   "cell_type": "code",
   "execution_count": null,
   "id": "75d58f8c",
   "metadata": {},
   "outputs": [],
   "source": [
    "# 3. Substituir (anonimizar) os números de telefone\n",
    "texto_anonimizado = re.sub(padrao_telefone, \"(XX) XXXXX-XXXX\", texto)\n",
    "print(f\"\\nTexto anonimizado:\\n{texto_anonimizado}\")"
   ]
  },
  {
   "cell_type": "markdown",
   "id": "e21f282f",
   "metadata": {},
   "source": [
    "### Exercício: Extração de Hashtags de um Arquivo de Texto\n",
    "\n",
    "Imagine que você tem um arquivo de texto que representa uma série de posts de uma rede social. Sua tarefa é ler este arquivo e extrair todas as hashtags únicas (palavras que começam com `#`) contidas nele.\n",
    "\n",
    "**Instruções:**\n",
    "\n",
    "1.  **Criação do Arquivo:** Primeiro, em sua célula de código, crie um arquivo chamado `posts.txt`. Escreva nele um texto de exemplo com várias hashtags, algumas repetidas.\n",
    "\n",
    "    *Exemplo de conteúdo para `posts.txt`:*\n",
    "\n",
    "    ```\n",
    "    Hoje o dia está ótimo para estudar #Python e #IA.\n",
    "    Estou aprendendo muito sobre #Python avançado.\n",
    "    A IA Generativa é um campo fascinante! #GenAI #IA\n",
    "    ```\n",
    "\n",
    "2.  **Leitura do Arquivo:** Use um **Context Manager** (`with open(...)`) para abrir e ler todo o conteúdo do arquivo `posts.txt` para uma única variável string.\n",
    "\n",
    "3.  **Extração com Regex:**\n",
    "\n",
    "      * Importe o módulo `re`.\n",
    "      * Crie um padrão de **Expressão Regular** que encontre todas as palavras que começam com o caractere `#` seguido por um ou mais caracteres alfanuméricos.\n",
    "      * Use a função `re.findall()` para aplicar este padrão ao texto lido do arquivo, extraindo todas as hashtags.\n",
    "\n",
    "4.  **Exibição do Resultado:** Imprima uma lista contendo todas as hashtags **únicas** que foram encontradas. Dica: converter a lista de resultados para um `set` é uma maneira fácil de remover duplicatas."
   ]
  },
  {
   "cell_type": "markdown",
   "id": "b246b5a7",
   "metadata": {},
   "source": [
    "## Controle, Robustez e Concorrência\n",
    "\n",
    "Nesta seção final, abordamos o tratamento de erros para criar aplicações robustas e introduzimos os conceitos de concorrência para melhorar o desempenho."
   ]
  },
  {
   "cell_type": "markdown",
   "id": "15235d58",
   "metadata": {},
   "source": [
    "### Error Handling and Exceptions\n",
    "\n",
    "Um sistema robusto deve ser capaz de lidar com situações inesperadas e erros sem interromper sua execução. Em Python, isso é feito através do mecanismo de tratamento de exceções.\n",
    "\n",
    "* `try`: O bloco `try` contém o código que pode potencialmente lançar uma exceção.\n",
    "* `except`: Se uma exceção do tipo especificado ocorrer no bloco `try`, o bloco `except` correspondente é executado. Pode-se capturar exceções específicas ou genéricas.\n",
    "* `else`: O bloco `else` (opcional) é executado se nenhuma exceção ocorrer no bloco `try`.\n",
    "* `finally`: O bloco `finally` (opcional) é sempre executado, independentemente de uma exceção ter ocorrido ou não. É ideal para tarefas de limpeza, como fechar conexões."
   ]
  },
  {
   "cell_type": "code",
   "execution_count": null,
   "id": "6387bc94",
   "metadata": {},
   "outputs": [],
   "source": [
    "def dividir(a, b):\n",
    "    try:\n",
    "        resultado = a / b\n",
    "    except ZeroDivisionError:\n",
    "        print(\"Erro: Divisão por zero não é permitida.\")\n",
    "        return None\n",
    "    except TypeError:\n",
    "        print(\"Erro: Ambos os argumentos devem ser numéricos.\")\n",
    "        return None\n",
    "    else:\n",
    "        print(\"Divisão realizada com sucesso.\")\n",
    "        return resultado\n",
    "    finally:\n",
    "        print(\"Bloco 'finally' executado. Fim da tentativa de divisão.\")\n",
    "\n",
    "print(f\"Resultado 1: {dividir(10, 2)}\")\n",
    "print(\"-\" * 20)\n",
    "print(f\"Resultado 2: {dividir(10, 0)}\")\n",
    "print(\"-\" * 20)\n",
    "print(f\"Resultado 3: {dividir(10, 'a')}\")"
   ]
  },
  {
   "cell_type": "markdown",
   "id": "7703148c",
   "metadata": {},
   "source": [
    "### Multithreading and Multiprocessing\n",
    "\n",
    "Para melhorar o desempenho, especialmente em tarefas intensivas, podemos usar concorrência ou paralelismo.\n",
    "\n",
    "* **Multithreading**: Envolve a execução de múltiplas *threads* (linhas de execução mais leves) dentro do mesmo processo. As threads compartilham o mesmo espaço de memória. Em Python, devido ao *Global Interpreter Lock* (GIL), o multithreading é mais eficaz para tarefas limitadas por I/O (*I/O-bound*), como fazer download de arquivos ou consultar APIs, onde o programa passa muito tempo esperando por operações externas.\n",
    "\n",
    "* **Multiprocessing**: Envolve a execução de múltiplos processos, cada um com seu próprio interpretador Python e espaço de memória. Isso permite o verdadeiro paralelismo, contornando a limitação do GIL. É ideal para tarefas limitadas por CPU (*CPU-bound*), como cálculos matemáticos complexos, processamento de grandes volumes de dados ou treinamento de modelos."
   ]
  },
  {
   "cell_type": "code",
   "execution_count": null,
   "id": "1e15cfa7",
   "metadata": {},
   "outputs": [],
   "source": [
    "# --- Exemplo de Multithreading (I/O-bound) ---\n",
    "import threading\n",
    "import time\n",
    "\n",
    "def simular_download(url):\n",
    "    print(f\"[Thread {threading.get_ident()}] Começando download de {url}...\")\n",
    "    time.sleep(2) # Simula a espera da rede\n",
    "    print(f\"[Thread {threading.get_ident()}] Download de {url} finalizado.\")\n",
    "\n",
    "urls = [\"site1.com\", \"site2.com\", \"site3.com\"]\n",
    "threads = []\n",
    "for url in urls:\n",
    "    thread = threading.Thread(target=simular_download, args=(url,))\n",
    "    threads.append(thread)\n",
    "    thread.start()\n",
    "\n",
    "for thread in threads:\n",
    "    thread.join() # Espera todas as threads terminarem\n",
    "print(\"\\n--- Todos os downloads (threads) concluídos ---\\n\")"
   ]
  },
  {
   "cell_type": "code",
   "execution_count": null,
   "id": "122f5237",
   "metadata": {},
   "outputs": [],
   "source": [
    "# --- Exemplo de Multiprocessing (CPU-bound) ---\n",
    "import os\n",
    "import multiprocessing\n",
    "\n",
    "def calculo_pesado(n):\n",
    "    print(f\"[Processo {os.getpid()}] Iniciando cálculo para {n}...\")\n",
    "    resultado = sum(i * i for i in range(n))\n",
    "    print(f\"[Processo {os.getpid()}] Cálculo para {n} finalizado.\")\n",
    "    return resultado\n",
    "\n",
    "numeros_grandes = [10000000, 10000001, 10000002]\n",
    "if __name__ == \"__main__\": # Bloco necessário para multiprocessing em alguns sistemas\n",
    "    with multiprocessing.Pool(processes=3) as pool:\n",
    "        pool.map(calculo_pesado, numeros_grandes)\n",
    "    \n",
    "    print(\"\\n--- Todos os cálculos (processos) concluídos ---\")"
   ]
  },
  {
   "cell_type": "markdown",
   "id": "215d9e75",
   "metadata": {},
   "source": [
    "### Exercício: Conversor Numérico Seguro\n",
    "\n",
    "Um dos erros mais comuns em programação ocorre ao tentar converter uma string para um número. Se a string não contiver um número válido, o programa lançará um `ValueError` e será interrompido.\n",
    "\n",
    "Sua tarefa é criar uma função que tente converter uma string para um número inteiro de forma segura.\n",
    "\n",
    "**Instruções:**\n",
    "\n",
    "1.  Crie uma função chamada `converter_para_inteiro(valor_string)`.\n",
    "2.  Dentro da função, utilize um bloco `try...except`.\n",
    "3.  **Bloco `try`:** Tente converter o `valor_string` para um inteiro usando a função `int()`. Se a conversão for bem-sucedida, imprima uma mensagem de sucesso, como: `\"Sucesso! O número é: [número convertido]\"`.\n",
    "4.  **Bloco `except ValueError`:** Se a conversão falhar, o bloco `except` deve ser executado. Nele, imprima uma mensagem de erro amigável, como: `\"Erro: A entrada '[valor_string]' não pode ser convertida para um número inteiro.\"`\n",
    "5.  Crie uma lista de strings para teste. Inclua valores que podem ser convertidos (`\"101\"`, `\"-5\"`) e valores que não podem (`\"Python\"`, `\"25.5\"`).\n",
    "6.  Faça um laço `for` que chame sua função para cada item da lista, mostrando que ela lida corretamente com todos os casos."
   ]
  },
  {
   "cell_type": "markdown",
   "id": "f8ea7ea0",
   "metadata": {},
   "source": [
    "## Programação Orientada a Objetos (POO)\n",
    "\n",
    "A Programação Orientada a Objetos é um paradigma de programação que utiliza \"objetos\" – instâncias de classes – para representar dados e métodos. É um pilar fundamental para a construção de sistemas complexos e modulares, como os encontrados em IA.\n",
    "\n",
    "Nesta seção, abordaremos:\n",
    "* **Classes e Objetos**: Os blocos de construção fundamentais da POO.\n",
    "* **Herança**: Mecanismo para criar novas classes a partir de classes existentes.\n",
    "* **Property Decorators**: Uma maneira \"Pythônica\" de gerenciar o acesso a atributos.\n",
    "* **Magic Methods**: Métodos especiais que permitem a integração de objetos com as operações nativas do Python."
   ]
  },
  {
   "cell_type": "markdown",
   "id": "54c23e4d",
   "metadata": {},
   "source": [
    "### Classes e Objetos\n",
    "\n",
    "Uma **Classe** é um modelo (*blueprint*) para criar objetos. Ela define um conjunto de atributos (variáveis) e métodos (funções) que os objetos criados a partir dela terão.\n",
    "\n",
    "Um **Objeto** é uma instância de uma classe. É uma entidade concreta na memória que possui estado (seus atributos) e comportamento (seus métodos). O processo de criação de um objeto a partir de uma classe é chamado de instanciação.\n",
    "\n",
    "O método `__init__` é um inicializador (frequentemente chamado de construtor) que é executado quando um novo objeto é criado. Ele é usado para inicializar os atributos do objeto. O primeiro argumento de qualquer método de instância é, por convenção, chamado de `self`, e se refere à própria instância do objeto."
   ]
  },
  {
   "cell_type": "code",
   "execution_count": null,
   "id": "f84b4d0d",
   "metadata": {},
   "outputs": [],
   "source": [
    "# Definição de uma classe 'Vetor' para representar um vetor 2D\n",
    "class Vetor:\n",
    "    \"\"\"\n",
    "    Uma classe para representar um vetor bidimensional e suas operações básicas.\n",
    "    \"\"\"\n",
    "    def __init__(self, x, y):\n",
    "        \"\"\"Inicializa o Vetor com as coordenadas x e y.\"\"\"\n",
    "        self.x = x\n",
    "        self.y = y\n",
    "\n",
    "    def magnitude(self):\n",
    "        \"\"\"Calcula a magnitude (comprimento) do vetor.\"\"\"\n",
    "        # A magnitude é a raiz quadrada de (x^2 + y^2)\n",
    "        return (self.x**2 + self.y**2)**0.5\n",
    "\n",
    "# Instanciação: criando dois objetos (instâncias) da classe Vetor\n",
    "vetor1 = Vetor(3, 4)\n",
    "vetor2 = Vetor(5, 12)\n",
    "\n",
    "# Acessando atributos e métodos\n",
    "print(f\"Vetor 1: (x={vetor1.x}, y={vetor1.y})\")\n",
    "print(f\"Magnitude do Vetor 1: {vetor1.magnitude()}\")\n",
    "\n",
    "print(f\"\\nVetor 2: (x={vetor2.x}, y={vetor2.y})\")\n",
    "print(f\"Magnitude do Vetor 2: {vetor2.magnitude()}\")"
   ]
  },
  {
   "cell_type": "markdown",
   "id": "a199ac9c",
   "metadata": {},
   "source": [
    "### Herança (Inheritance)\n",
    "\n",
    "A herança é um mecanismo que permite que uma nova classe (chamada de subclasse ou classe derivada) herde atributos e métodos de uma classe existente (chamada de superclasse ou classe base). Isso promove a reutilização de código e a criação de uma hierarquia de classes.\n",
    "\n",
    "A subclasse pode usar os métodos e atributos da superclasse diretamente, estendê-los (adicionar novas funcionalidades) ou sobrescrevê-los (fornecer uma implementação diferente). A função `super()` é usada para chamar métodos da classe pai a partir da subclasse."
   ]
  },
  {
   "cell_type": "code",
   "execution_count": null,
   "id": "2a4f5d48",
   "metadata": {},
   "outputs": [],
   "source": [
    "# --- Exemplo de Herança com Formas Geométricas ---\n",
    "import math\n",
    "\n",
    "# Classe base (Superclasse)\n",
    "class Forma:\n",
    "    \"\"\"\n",
    "    Define uma forma geométrica genérica.\n",
    "    Toda forma possui uma cor e deve ser capaz de calcular sua área.\n",
    "    \"\"\"\n",
    "    def __init__(self, cor):\n",
    "        self.cor = cor\n",
    "\n",
    "    def descrever(self):\n",
    "        return f\"Esta é uma forma de cor {self.cor}.\"\n",
    "\n",
    "    def calcular_area(self):\n",
    "        \"\"\"\n",
    "        Este método serve como um contrato. Toda subclasse de Forma\n",
    "        deve fornecer sua própria implementação para o cálculo da área.\n",
    "        \"\"\"\n",
    "        raise NotImplementedError(\"As subclasses devem implementar o método 'calcular_area'\")"
   ]
  },
  {
   "cell_type": "code",
   "execution_count": null,
   "id": "bd16912b",
   "metadata": {},
   "outputs": [],
   "source": [
    "# Classe derivada (Subclasse)\n",
    "class Retangulo(Forma):\n",
    "    \"\"\"\n",
    "    Representa um retângulo, que é um tipo de Forma.\n",
    "    \"\"\"\n",
    "    def __init__(self, cor, largura, altura):\n",
    "        # Inicializa a parte da classe pai (Forma)\n",
    "        super().__init__(cor)\n",
    "        self.largura = largura\n",
    "        self.altura = altura\n",
    "\n",
    "    # Sobrescrevendo o método da classe pai para adicionar mais detalhes\n",
    "    def descrever(self):\n",
    "        descricao_base = super().descrever()\n",
    "        return f\"{descricao_base} É um retângulo com largura {self.largura} e altura {self.altura}.\"\n",
    "\n",
    "    # Implementando o método exigido pela classe pai\n",
    "    def calcular_area(self):\n",
    "        return self.largura * self.altura\n",
    "\n",
    "# Outra classe derivada\n",
    "class Circulo(Forma):\n",
    "    \"\"\"\n",
    "    Representa um círculo, que também é um tipo de Forma.\n",
    "    \"\"\"\n",
    "    def __init__(self, cor, raio):\n",
    "        super().__init__(cor)\n",
    "        self.raio = raio\n",
    "\n",
    "    def descrever(self):\n",
    "        descricao_base = super().descrever()\n",
    "        return f\"{descricao_base} É um círculo com raio {self.raio}.\"\n",
    "\n",
    "    # Implementando o método de forma diferente do Retângulo\n",
    "    def calcular_area(self):\n",
    "        return math.pi * (self.raio ** 2)"
   ]
  },
  {
   "cell_type": "code",
   "execution_count": null,
   "id": "c5f52cb3",
   "metadata": {},
   "outputs": [],
   "source": [
    "# --- Demonstração do Polimorfismo ---\n",
    "# Polimorfismo é a capacidade de tratar objetos de diferentes classes\n",
    "# de maneira uniforme. Aqui, tratamos tanto retângulos quanto círculos como 'Forma'.\n",
    "\n",
    "formas = [\n",
    "    Retangulo('azul', 10, 5),\n",
    "    Circulo('vermelho', 7),\n",
    "    Retangulo('verde', 4, 4) # Um quadrado é um tipo de retângulo\n",
    "]\n",
    "\n",
    "# Iteramos pela lista e chamamos os mesmos métodos em objetos diferentes.\n",
    "# Python executa a versão correta do método para cada objeto.\n",
    "for i, forma in enumerate(formas):\n",
    "    print(f\"--- Forma {i+1} ---\")\n",
    "    print(forma.descrever())\n",
    "    print(f\"A área da forma é: {forma.calcular_area():.2f}\")\n",
    "    print()"
   ]
  },
  {
   "cell_type": "markdown",
   "id": "7cfde7c2",
   "metadata": {},
   "source": [
    "### Property Decorators\n",
    "\n",
    "Em Python, é comum começar com atributos públicos e, posteriormente, se necessário, adicionar a lógica de acesso a eles. O decorator `@property` oferece uma maneira elegante e \"Pythônica\" de fazer isso sem quebrar o código cliente.\n",
    "\n",
    "Ele permite que um método de uma classe seja acessado como um atributo. Isso é útil para criar \"getters\" (acessores). Além disso, podemos definir \"setters\" (modificadores) e \"deleters\" (deletadores) para esse atributo, permitindo a validação ou o processamento de dados sempre que o atributo for modificado ou excluído.\n",
    "\n",
    "* `@property`: Define o método \"getter\".\n",
    "* `@<nome_propriedade>.setter`: Define o método \"setter\".\n",
    "* `@<nome_propriedade>.deleter`: Define o método \"deleter\"."
   ]
  },
  {
   "cell_type": "code",
   "execution_count": null,
   "id": "e2210c2d",
   "metadata": {},
   "outputs": [],
   "source": [
    "class Circulo:\n",
    "    def __init__(self, raio):\n",
    "        # O atributo é prefixado com '_' para indicar que é \"protegido\"\n",
    "        self._raio = raio\n",
    "\n",
    "    @property\n",
    "    def raio(self):\n",
    "        \"\"\"Getter para o raio. Retorna o valor do raio.\"\"\"\n",
    "        print(\"Acessando o 'getter' de raio...\")\n",
    "        return self._raio\n",
    "\n",
    "    @raio.setter\n",
    "    def raio(self, valor):\n",
    "        \"\"\"Setter para o raio. Valida se o valor não é negativo.\"\"\"\n",
    "        print(\"Acessando o 'setter' de raio...\")\n",
    "        if valor < 0:\n",
    "            raise ValueError(\"O raio não pode ser negativo.\")\n",
    "        self._raio = valor\n",
    "\n",
    "    @property\n",
    "    def area(self):\n",
    "        \"\"\"\n",
    "        Propriedade somente leitura ('read-only') que calcula a área.\n",
    "        Não possui um setter.\n",
    "        \"\"\"\n",
    "        # Usamos self.raio para garantir que o getter seja chamado\n",
    "        return 3.14159 * (self.raio ** 2)"
   ]
  },
  {
   "cell_type": "code",
   "execution_count": null,
   "id": "e6c7234e",
   "metadata": {},
   "outputs": [],
   "source": [
    "c = Circulo(10)\n",
    "\n",
    "# Acessando o getter (parece um acesso a atributo)\n",
    "print(f\"Raio inicial: {c.raio}\")"
   ]
  },
  {
   "cell_type": "code",
   "execution_count": null,
   "id": "c76de934",
   "metadata": {},
   "outputs": [],
   "source": [
    "# Acessando o setter (parece uma atribuição de atributo)\n",
    "c.raio = 12\n",
    "print(f\"Novo raio: {c.raio}\")"
   ]
  },
  {
   "cell_type": "code",
   "execution_count": null,
   "id": "c4f67b7b",
   "metadata": {},
   "outputs": [],
   "source": [
    "# Acessando a propriedade calculada\n",
    "print(f\"Área do círculo: {c.area:.2f}\")"
   ]
  },
  {
   "cell_type": "code",
   "execution_count": null,
   "id": "1a5fea1f",
   "metadata": {},
   "outputs": [],
   "source": [
    "# Tentando atribuir um valor inválido (acionará o ValueError)\n",
    "try:\n",
    "    c.raio = -5\n",
    "except ValueError as e:\n",
    "    print(f\"\\nErro: {e}\")"
   ]
  },
  {
   "cell_type": "markdown",
   "id": "9e37efe3",
   "metadata": {},
   "source": [
    "### Magic Methods (Métodos Mágicos)\n",
    "\n",
    "Métodos Mágicos, também conhecidos como *Dunder Methods* (de *Double Underscore*), são métodos especiais com nomes que começam e terminam com dois underscores (e.g., `__init__`, `__len__`). Eles não são feitos para serem chamados diretamente, mas sim pela sintaxe interna do Python.\n",
    "\n",
    "Implementar esses métodos em suas classes permite que seus objetos se comportem como tipos nativos, suportando operações como adição, representação em string, verificação de tamanho, etc.\n",
    "\n",
    "Alguns métodos mágicos importantes:\n",
    "* `__init__(self, ...)`: Inicializador do objeto.\n",
    "* `__str__(self)`: Retorna a representação \"informal\" em string do objeto. Usado pela função `str()` e `print()`.\n",
    "* `__repr__(self)`: Retorna a representação \"oficial\" e não ambígua do objeto, que idealmente poderia recriar o objeto. Usado por `repr()`.\n",
    "* `__len__(self)`: Retorna o \"comprimento\" do objeto. Usado por `len()`.\n",
    "* `__add__(self, other)`: Define o comportamento para o operador de adição `+`.\n",
    "* `__eq__(self, other)`: Define o comportamento para o operador de igualdade `==`.\n",
    "* `__getitem__(self, key)`: Define o comportamento para acessar um item usando a notação de colchetes `[]` (ex: `objeto[chave]`). Essencial para classes que se comportam como contêineres.\n",
    "* `__call__(self, *args, **kwargs)`: Permite que uma instância da classe seja \"chamada\" como uma função (ex: `objeto(arg1, arg2)`)."
   ]
  },
  {
   "cell_type": "code",
   "execution_count": null,
   "id": "f00c0ac4",
   "metadata": {},
   "outputs": [],
   "source": [
    "import math\n",
    "\n",
    "class Vetor:\n",
    "    def __init__(self, x, y):\n",
    "        self.x = x\n",
    "        self.y = y\n",
    "\n",
    "    # __repr__: Representação para desenvolvedores\n",
    "    def __repr__(self):\n",
    "        return f\"Vetor({self.x}, {self.y})\"\n",
    "\n",
    "    # __str__: Representação para usuários finais (print)\n",
    "    def __str__(self):\n",
    "        return f\"({self.x}, {self.y})\"\n",
    "\n",
    "    # __len__: Permite usar a função len()\n",
    "    def __len__(self):\n",
    "        # Retornando um inteiro; neste caso, a magnitude arredondada\n",
    "        return int(self.magnitude())\n",
    "\n",
    "    # __add__: Define a soma de vetores\n",
    "    def __add__(self, outro_vetor):\n",
    "        novo_x = self.x + outro_vetor.x\n",
    "        novo_y = self.y + outro_vetor.y\n",
    "        return Vetor(novo_x, novo_y)\n",
    "\n",
    "    # __eq__: Define a comparação de igualdade\n",
    "    def __eq__(self, outro_vetor):\n",
    "        return self.x == outro_vetor.x and self.y == outro_vetor.y\n",
    "\n",
    "    def magnitude(self):\n",
    "        return math.sqrt(self.x**2 + self.y**2)"
   ]
  },
  {
   "cell_type": "code",
   "execution_count": null,
   "id": "d5355a7a",
   "metadata": {},
   "outputs": [],
   "source": [
    "# Demonstração dos Métodos Mágicos\n",
    "v1 = Vetor(2, 3)\n",
    "v2 = Vetor(5, 1)\n",
    "v3 = Vetor(2, 3)"
   ]
  },
  {
   "cell_type": "code",
   "execution_count": null,
   "id": "abc67efc",
   "metadata": {},
   "outputs": [],
   "source": [
    "# __str__ é chamado por print()\n",
    "print(f\"Vetor 1: {v1}\")\n",
    "print(f\"Vetor 2: {v2}\")"
   ]
  },
  {
   "cell_type": "code",
   "execution_count": null,
   "id": "a2fe0fbb",
   "metadata": {},
   "outputs": [],
   "source": [
    "# __add__ é chamado pelo operador '+'\n",
    "v_soma = v1 + v2\n",
    "print(f\"Soma (v1 + v2): {v_soma}\")"
   ]
  },
  {
   "cell_type": "code",
   "execution_count": null,
   "id": "b59564d9",
   "metadata": {},
   "outputs": [],
   "source": [
    "# __eq__ é chamado pelo operador '=='\n",
    "print(f\"v1 é igual a v2? {v1 == v2}\")\n",
    "print(f\"v1 é igual a v3? {v1 == v3}\")"
   ]
  },
  {
   "cell_type": "code",
   "execution_count": null,
   "id": "f2310a01",
   "metadata": {},
   "outputs": [],
   "source": [
    "# __len__ é chamado pela função len()\n",
    "print(f\"A magnitude (comprimento inteiro) de v1 é: {len(v1)}\")"
   ]
  },
  {
   "cell_type": "code",
   "execution_count": null,
   "id": "972b1fbe",
   "metadata": {},
   "outputs": [],
   "source": [
    "# __repr__ é chamado quando a variável é inspecionada\n",
    "print(\"\\nRepresentação oficial de v_soma:\")\n",
    "v_soma"
   ]
  },
  {
   "cell_type": "markdown",
   "id": "b24c68dd",
   "metadata": {},
   "source": [
    "### Exercício: Modelagem Matemática com Classes e Métodos Mágicos\n",
    "\n",
    "Vamos modelar um polinômio matemático usando uma classe em Python, aproveitando o poder dos métodos mágicos para criar uma interface intuitiva.\n",
    "\n",
    "**Instruções:**\n",
    "\n",
    "Crie uma classe `Polinomio`.\n",
    "\n",
    "1.  O `__init__` deve aceitar uma lista de coeficientes, onde o índice corresponde à potência de x (ex: `[c0, c1, c2]` representa `c0 + c1*x + c2*x^2`).\n",
    "2.  Implemente `__str__` e `__repr__` para exibir o polinômio de forma legível. Ex: para `[4, 0, -3, 1]`, a saída deve ser `\"x^3 - 3x^2 + 4\"`. Este é o maior desafio, lide com coeficientes zero, um e negativos.\n",
    "3.  Implemente `__add__` para que dois polinômios possam ser somados com o operador `+`. O resultado deve ser um novo objeto `Polinomio`.\n",
    "4.  Implemente `__call__` para que o objeto polinômio possa ser \"chamado\" como uma função, recebendo um valor `x` e retornando o resultado do polinômio para esse `x`. Ex: `p = Polinomio([1, 2]); p(3)` deve retornar `1 + 2*3 = 7`.\n",
    "5.  Use um `@property` para criar um atributo `grau` que retorne o grau do polinômio (a maior potência com coeficiente não-nulo)."
   ]
  },
  {
   "cell_type": "markdown",
   "id": "2059b0dd",
   "metadata": {},
   "source": [
    "## Módulos em Python: Organizando seu Código\n",
    "\n",
    "À medida que os programas crescem em complexidade, torna-se insustentável manter todo o código em um único arquivo. Os **módulos** são a solução do Python para este problema. Um módulo é simplesmente um arquivo com a extensão `.py` contendo definições e instruções Python (funções, classes, variáveis).\n",
    "\n",
    "O uso de módulos serve a três propósitos principais:\n",
    "\n",
    "1.  **Organização do Código**: Permite dividir um programa grande em arquivos menores, lógicos e mais gerenciáveis. Cada arquivo (módulo) pode agrupar funcionalidades relacionadas.\n",
    "2.  **Reutilização de Código**: Funções e classes definidas em um módulo podem ser facilmente reutilizadas em vários outros programas sem a necessidade de copiar e colar o código.\n",
    "3.  **Gerenciamento de Namespaces**: Cada módulo possui seu próprio namespace (espaço de nomes) privado. Isso significa que os nomes de funções ou variáveis dentro de um módulo não entram em conflito com nomes idênticos em outros módulos ou no programa principal, evitando ambiguidades."
   ]
  },
  {
   "cell_type": "markdown",
   "id": "26dc36af",
   "metadata": {},
   "source": [
    "### Criando e Utilizando Módulos\n",
    "\n",
    "Criar um módulo é tão simples quanto salvar um código Python em um arquivo `.py`. Para utilizar as funcionalidades definidas em um módulo, usamos a instrução `import`. Existem algumas formas principais de importar:\n",
    "\n",
    "* **`import nome_do_modulo`**: Importa o módulo inteiro. Para acessar suas funções ou atributos, você deve usar a notação de ponto: `nome_do_modulo.funcao()`. Esta é a forma mais recomendada, pois mantém o código explícito e evita conflitos de nome.\n",
    "\n",
    "* **`from nome_do_modulo import objeto`**: Importa um objeto específico (uma função, classe, etc.) diretamente para o namespace atual. O objeto pode então ser usado diretamente, sem o prefixo do módulo: `objeto()`.\n",
    "\n",
    "* **`import nome_do_modulo as alias`**: Importa o módulo inteiro, mas lhe dá um \"apelido\" (alias) mais curto ou conveniente. Esta prática é extremamente comum em ciência de dados (ex: `import numpy as np`, `import pandas as pd`).\n",
    "\n",
    "* **`from nome_do_modulo import *`**: Importa todos os nomes de um módulo para o namespace atual. Esta forma **não é recomendada** na maioria dos casos, pois pode \"poluir\" o namespace local com nomes desconhecidos, levando a conflitos e a um código de difícil leitura."
   ]
  },
  {
   "cell_type": "code",
   "execution_count": null,
   "id": "58f24634",
   "metadata": {},
   "outputs": [],
   "source": [
    "%%writefile mat_utils.py\n",
    "\n",
    "\"\"\"\n",
    "mat_utils: Um módulo simples com utilidades matemáticas.\n",
    "\"\"\"\n",
    "\n",
    "PI = 3.14159\n",
    "\n",
    "def area_circulo(raio):\n",
    "    \"\"\"Calcula a área de um círculo.\"\"\"\n",
    "    return PI * (raio ** 2)\n",
    "\n",
    "def area_retangulo(base, altura):\n",
    "    \"\"\"Calcula a área de um retângulo.\"\"\"\n",
    "    return base * altura"
   ]
  },
  {
   "cell_type": "code",
   "execution_count": null,
   "id": "172fb6e3",
   "metadata": {},
   "outputs": [],
   "source": [
    "# Agora, vamos importar e usar nosso módulo 'mat_utils'\n",
    "\n",
    "# 1. Usando 'import nome_do_modulo'\n",
    "import mat_utils\n",
    "\n",
    "raio_circ = 10\n",
    "print(f\"A constante PI do nosso módulo é: {mat_utils.PI}\")\n",
    "print(f\"A área de um círculo de raio {raio_circ} é: {mat_utils.area_circulo(raio_circ)}\")"
   ]
  },
  {
   "cell_type": "code",
   "execution_count": null,
   "id": "9ad2bdad",
   "metadata": {},
   "outputs": [],
   "source": [
    "# 2. Usando 'from nome_do_modulo import objeto'\n",
    "from mat_utils import area_retangulo\n",
    "\n",
    "# A função pode ser chamada diretamente\n",
    "print(f\"A área de um retângulo 5x4 é: {area_retangulo(5, 4)}\")"
   ]
  },
  {
   "cell_type": "code",
   "execution_count": null,
   "id": "50330f48",
   "metadata": {},
   "outputs": [],
   "source": [
    "# 3. Usando 'import ... as alias'\n",
    "import mat_utils as mu\n",
    "\n",
    "# Usamos o alias 'mu' para acessar os objetos\n",
    "print(f\"Acessando a área do círculo com alias: {mu.area_circulo(2)}\")"
   ]
  }
 ],
 "metadata": {
  "kernelspec": {
   "display_name": "base",
   "language": "python",
   "name": "python3"
  },
  "language_info": {
   "codemirror_mode": {
    "name": "ipython",
    "version": 3
   },
   "file_extension": ".py",
   "mimetype": "text/x-python",
   "name": "python",
   "nbconvert_exporter": "python",
   "pygments_lexer": "ipython3",
   "version": "3.10.9"
  }
 },
 "nbformat": 4,
 "nbformat_minor": 5
}
